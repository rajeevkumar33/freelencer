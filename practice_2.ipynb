{
 "cells": [
  {
   "cell_type": "code",
   "execution_count": 2,
   "metadata": {
    "collapsed": true
   },
   "outputs": [],
   "source": [
    "import inspect"
   ]
  },
  {
   "cell_type": "code",
   "execution_count": 3,
   "metadata": {
    "collapsed": true
   },
   "outputs": [],
   "source": [
    "class A(object):  \n",
    "    def f(self, x):  \n",
    "        return 2 * x"
   ]
  },
  {
   "cell_type": "code",
   "execution_count": 4,
   "metadata": {},
   "outputs": [
    {
     "data": {
      "text/plain": [
       "True"
      ]
     },
     "execution_count": 4,
     "metadata": {},
     "output_type": "execute_result"
    }
   ],
   "source": [
    "inspect.isfunction(A.f)"
   ]
  },
  {
   "cell_type": "code",
   "execution_count": 6,
   "metadata": {},
   "outputs": [
    {
     "data": {
      "text/plain": [
       "False"
      ]
     },
     "execution_count": 6,
     "metadata": {},
     "output_type": "execute_result"
    }
   ],
   "source": [
    "inspect.ismethod(A.f)"
   ]
  },
  {
   "cell_type": "code",
   "execution_count": 7,
   "metadata": {
    "collapsed": true
   },
   "outputs": [],
   "source": [
    "class D(object):   \n",
    "    multiplier = 2\n",
    "    @classmethod \n",
    "    def f(cls, x): \n",
    "        return cls.multiplier * x\n",
    "    @staticmethod   \n",
    "    def g(name):     \n",
    "        print(\"Hello, %s\" % name)"
   ]
  },
  {
   "cell_type": "code",
   "execution_count": 8,
   "metadata": {},
   "outputs": [
    {
     "data": {
      "text/plain": [
       "24"
      ]
     },
     "execution_count": 8,
     "metadata": {},
     "output_type": "execute_result"
    }
   ],
   "source": [
    "D.f(12)"
   ]
  },
  {
   "cell_type": "code",
   "execution_count": 9,
   "metadata": {
    "collapsed": true
   },
   "outputs": [],
   "source": [
    "d = D() \n",
    "d.multiplier = 1337"
   ]
  },
  {
   "cell_type": "code",
   "execution_count": 11,
   "metadata": {},
   "outputs": [
    {
     "data": {
      "text/plain": [
       "(2, 1337)"
      ]
     },
     "execution_count": 11,
     "metadata": {},
     "output_type": "execute_result"
    }
   ],
   "source": [
    "(D.multiplier, d.multiplier)"
   ]
  },
  {
   "cell_type": "code",
   "execution_count": 24,
   "metadata": {
    "collapsed": true
   },
   "outputs": [],
   "source": [
    "class A():  \n",
    "    def __init__(self, num): \n",
    "        self.num = num\n",
    "    def __add__(self, other):  \n",
    "        return A(self.num + other.num)"
   ]
  },
  {
   "cell_type": "code",
   "execution_count": 25,
   "metadata": {
    "collapsed": true
   },
   "outputs": [],
   "source": [
    "def get_num(self):  \n",
    "    return self.num"
   ]
  },
  {
   "cell_type": "code",
   "execution_count": null,
   "metadata": {
    "collapsed": true
   },
   "outputs": [],
   "source": []
  },
  {
   "cell_type": "code",
   "execution_count": 26,
   "metadata": {
    "collapsed": true
   },
   "outputs": [],
   "source": [
    "foo = A(42)\n",
    "A.get_num = get_num\n",
    "bar = A(6);"
   ]
  },
  {
   "cell_type": "code",
   "execution_count": 27,
   "metadata": {},
   "outputs": [
    {
     "data": {
      "text/plain": [
       "42"
      ]
     },
     "execution_count": 27,
     "metadata": {},
     "output_type": "execute_result"
    }
   ],
   "source": [
    "foo.get_num()"
   ]
  },
  {
   "cell_type": "code",
   "execution_count": 28,
   "metadata": {},
   "outputs": [
    {
     "data": {
      "text/plain": [
       "6"
      ]
     },
     "execution_count": 28,
     "metadata": {},
     "output_type": "execute_result"
    }
   ],
   "source": [
    "bar.get_num()"
   ]
  },
  {
   "cell_type": "code",
   "execution_count": 30,
   "metadata": {},
   "outputs": [
    {
     "data": {
      "text/plain": [
       "True"
      ]
     },
     "execution_count": 30,
     "metadata": {},
     "output_type": "execute_result"
    }
   ],
   "source": [
    "isinstance(bar,object)"
   ]
  },
  {
   "cell_type": "code",
   "execution_count": 57,
   "metadata": {
    "collapsed": true
   },
   "outputs": [],
   "source": [
    "class bar():\n",
    "    foo=\"hello\"\n",
    "    bar=\"hello bar\"\n",
    "    \n",
    "class foo():\n",
    "    foo='hello foo'\n",
    "    \n",
    "class fooBar(bar,foo):\n",
    "    foo=\"hello foobar\"\n",
    "    \n",
    "fb=fooBar()"
   ]
  },
  {
   "cell_type": "code",
   "execution_count": 58,
   "metadata": {},
   "outputs": [
    {
     "data": {
      "text/plain": [
       "'hello foobar'"
      ]
     },
     "execution_count": 58,
     "metadata": {},
     "output_type": "execute_result"
    }
   ],
   "source": [
    "fb.foo"
   ]
  },
  {
   "cell_type": "code",
   "execution_count": 59,
   "metadata": {},
   "outputs": [
    {
     "data": {
      "text/plain": [
       "'hello bar'"
      ]
     },
     "execution_count": 59,
     "metadata": {},
     "output_type": "execute_result"
    }
   ],
   "source": [
    "fb.bar"
   ]
  },
  {
   "cell_type": "code",
   "execution_count": 60,
   "metadata": {},
   "outputs": [
    {
     "data": {
      "text/plain": [
       "[__main__.fooBar, __main__.bar, __main__.foo, object]"
      ]
     },
     "execution_count": 60,
     "metadata": {},
     "output_type": "execute_result"
    }
   ],
   "source": [
    "fooBar.mro()"
   ]
  },
  {
   "cell_type": "code",
   "execution_count": 64,
   "metadata": {
    "collapsed": true
   },
   "outputs": [],
   "source": [
    "class Foo(object): \n",
    "    def foo_method(self):\n",
    "        print (\"foo Method\")\n",
    "class Bar(object):  \n",
    "    def bar_method(self):    \n",
    "        print (\"bar Method\")\n",
    "class FooBar(Foo, Bar):\n",
    "    def foo_method(self):  \n",
    "        super(FooBar, self).foo_method()\n",
    "        "
   ]
  },
  {
   "cell_type": "code",
   "execution_count": 65,
   "metadata": {
    "collapsed": true
   },
   "outputs": [],
   "source": [
    "fb=FooBar()"
   ]
  },
  {
   "cell_type": "code",
   "execution_count": 66,
   "metadata": {},
   "outputs": [
    {
     "name": "stdout",
     "output_type": "stream",
     "text": [
      "foo Method\n"
     ]
    }
   ],
   "source": [
    "fb.foo_method()"
   ]
  },
  {
   "cell_type": "code",
   "execution_count": 69,
   "metadata": {},
   "outputs": [
    {
     "name": "stdout",
     "output_type": "stream",
     "text": [
      "foobar init\n",
      "bar init\n"
     ]
    }
   ],
   "source": [
    "class Foo(object): \n",
    "    def __init__(self):  \n",
    "        print (\"foo init\")\n",
    "class Bar(object):\n",
    "    def __init__(self):  \n",
    "        print (\"bar init\")\n",
    "class FooBar(Bar, Foo):\n",
    "    def __init__(self): \n",
    "        print (\"foobar init\")\n",
    "        super(FooBar, self).__init__()\n",
    "a = FooBar()"
   ]
  },
  {
   "cell_type": "code",
   "execution_count": 74,
   "metadata": {
    "collapsed": true
   },
   "outputs": [],
   "source": [
    "class MyClass(object):\n",
    "    def __init__(self):\n",
    "        self._my_string = \"\"   \n",
    "        \n",
    "    @property \n",
    "    def string(self):    \n",
    "        \"\"\"A profoundly important string.\"\"\"      \n",
    "        return self._my_string\n",
    "    @string.setter  \n",
    "    def string(self, new_value):  \n",
    "        assert isinstance(new_value, str)\n",
    "        \"Give me a string, not a %r!\" % type(new_value) \n",
    "        self._my_string = new_value\n",
    "    @string.deleter   \n",
    "    def x(self):   \n",
    "        self._my_string = None"
   ]
  },
  {
   "cell_type": "code",
   "execution_count": 79,
   "metadata": {},
   "outputs": [
    {
     "name": "stdout",
     "output_type": "stream",
     "text": [
      "String!\n"
     ]
    },
    {
     "data": {
      "text/plain": [
       "'String!'"
      ]
     },
     "execution_count": 79,
     "metadata": {},
     "output_type": "execute_result"
    }
   ],
   "source": [
    "mc = MyClass()\n",
    "mc.string = \"String!\" \n",
    "print(mc.string) \n",
    "(mc.x)"
   ]
  },
  {
   "cell_type": "code",
   "execution_count": 83,
   "metadata": {
    "collapsed": true
   },
   "outputs": [],
   "source": [
    "class Singleton:  \n",
    "    def __new__(cls):\n",
    "        try:         \n",
    "            it = cls.__it__  \n",
    "        except AttributeError:\n",
    "                it = cls.__it__ = object.__new__(cls)      \n",
    "        return it\n",
    "    def __repr__(self):   \n",
    "        return '<{}>'.format(self.__class__.__name__.upper())\n",
    "    \n",
    "    def __eq__(self, other):        \n",
    "        return other is self   # single tone classs"
   ]
  },
  {
   "cell_type": "code",
   "execution_count": 88,
   "metadata": {},
   "outputs": [
    {
     "name": "stdout",
     "output_type": "stream",
     "text": [
      "My value is: 6\n"
     ]
    }
   ],
   "source": [
    "class AssignValue(object):  \n",
    "    def __init__(self, value):\n",
    "        self.value = value\n",
    "my_value = AssignValue(6) \n",
    "print('My value is: {0.value}'.format(my_value))"
   ]
  },
  {
   "cell_type": "code",
   "execution_count": 89,
   "metadata": {},
   "outputs": [
    {
     "name": "stdout",
     "output_type": "stream",
     "text": [
      "2nd element is: two\n"
     ]
    }
   ],
   "source": [
    "my_list = ['zero', 'one', 'two']\n",
    "print(\"2nd element is: {0[2]}\".format(my_list))"
   ]
  },
  {
   "cell_type": "code",
   "execution_count": 92,
   "metadata": {},
   "outputs": [
    {
     "data": {
      "text/plain": [
       "'~~~~~~~~~~~centered~~~~~~~~~~~'"
      ]
     },
     "execution_count": 92,
     "metadata": {},
     "output_type": "execute_result"
    }
   ],
   "source": [
    "'{:~^30}'.format('centered')"
   ]
  },
  {
   "cell_type": "code",
   "execution_count": 96,
   "metadata": {},
   "outputs": [
    {
     "data": {
      "text/plain": [
       "'______________________middle______________________'"
      ]
     },
     "execution_count": 96,
     "metadata": {},
     "output_type": "execute_result"
    }
   ],
   "source": [
    "'{:_^50}'.format(\"middle\")"
   ]
  },
  {
   "cell_type": "code",
   "execution_count": 97,
   "metadata": {},
   "outputs": [
    {
     "name": "stdout",
     "output_type": "stream",
     "text": [
      "12 22222 45 22222 103 22222 6 22222\n"
     ]
    }
   ],
   "source": [
    "t = (12, 45, 22222, 103, 6)\n",
    "print ('{0} {2} {1} {2} {3} {2} {4} {2}'.format(*t))"
   ]
  },
  {
   "cell_type": "code",
   "execution_count": 101,
   "metadata": {},
   "outputs": [
    {
     "name": "stdout",
     "output_type": "stream",
     "text": [
      "['the number is 12', 'the number is 45', 'the number is 78']\n"
     ]
    }
   ],
   "source": [
    "number_list = [12,45,78] \n",
    "print (list(map('the number is {}'.format, number_list)))"
   ]
  },
  {
   "cell_type": "code",
   "execution_count": 102,
   "metadata": {},
   "outputs": [
    {
     "data": {
      "text/plain": [
       "'Hello~~~~, World'"
      ]
     },
     "execution_count": 102,
     "metadata": {},
     "output_type": "execute_result"
    }
   ],
   "source": [
    "'{:~<9s}, World'.format('Hello')"
   ]
  },
  {
   "cell_type": "code",
   "execution_count": 104,
   "metadata": {},
   "outputs": [
    {
     "data": {
      "text/plain": [
       "'~~~~Hello, World'"
      ]
     },
     "execution_count": 104,
     "metadata": {},
     "output_type": "execute_result"
    }
   ],
   "source": [
    "'{:~>9s}, World'.format('Hello')"
   ]
  },
  {
   "cell_type": "code",
   "execution_count": 114,
   "metadata": {},
   "outputs": [
    {
     "data": {
      "text/plain": [
       "'-111111123'"
      ]
     },
     "execution_count": 114,
     "metadata": {},
     "output_type": "execute_result"
    }
   ],
   "source": [
    "'{:1=10d}'.format(-123)"
   ]
  },
  {
   "cell_type": "code",
   "execution_count": 117,
   "metadata": {},
   "outputs": [
    {
     "data": {
      "text/plain": [
       "'foo is bar'"
      ]
     },
     "execution_count": 117,
     "metadata": {},
     "output_type": "execute_result"
    }
   ],
   "source": [
    "foo = 'bar'\n",
    "f'foo is {foo}'"
   ]
  },
  {
   "cell_type": "code",
   "execution_count": 119,
   "metadata": {},
   "outputs": [
    {
     "data": {
      "text/plain": [
       "'  bar  '"
      ]
     },
     "execution_count": 119,
     "metadata": {},
     "output_type": "execute_result"
    }
   ],
   "source": [
    "f'{foo:^7s}'"
   ]
  },
  {
   "cell_type": "code",
   "execution_count": 121,
   "metadata": {},
   "outputs": [
    {
     "data": {
      "text/plain": [
       "'bar@@@@@'"
      ]
     },
     "execution_count": 121,
     "metadata": {},
     "output_type": "execute_result"
    }
   ],
   "source": [
    "f'{foo:@<8s}'"
   ]
  },
  {
   "cell_type": "code",
   "execution_count": 123,
   "metadata": {
    "collapsed": true
   },
   "outputs": [],
   "source": [
    "price =123.34"
   ]
  },
  {
   "cell_type": "code",
   "execution_count": 132,
   "metadata": {},
   "outputs": [
    {
     "data": {
      "text/plain": [
       "'!!!!!!!123.34!!!!!!!'"
      ]
     },
     "execution_count": 132,
     "metadata": {},
     "output_type": "execute_result"
    }
   ],
   "source": [
    "f\"{f'{price:0.2f}':!^20s}\""
   ]
  },
  {
   "cell_type": "code",
   "execution_count": 131,
   "metadata": {},
   "outputs": [
    {
     "data": {
      "text/plain": [
       "'*************$123.34'"
      ]
     },
     "execution_count": 131,
     "metadata": {},
     "output_type": "execute_result"
    }
   ],
   "source": [
    "f\"{f'${price:0.2f}':*>20s}\""
   ]
  },
  {
   "cell_type": "code",
   "execution_count": 133,
   "metadata": {},
   "outputs": [
    {
     "data": {
      "text/plain": [
       "'42'"
      ]
     },
     "execution_count": 133,
     "metadata": {},
     "output_type": "execute_result"
    }
   ],
   "source": [
    "'{0:.0f}'.format(42.12345)"
   ]
  },
  {
   "cell_type": "code",
   "execution_count": 134,
   "metadata": {},
   "outputs": [
    {
     "data": {
      "text/plain": [
       "'42.123'"
      ]
     },
     "execution_count": 134,
     "metadata": {},
     "output_type": "execute_result"
    }
   ],
   "source": [
    " '{0:.3f}'.format(42.12345)"
   ]
  },
  {
   "cell_type": "code",
   "execution_count": 135,
   "metadata": {},
   "outputs": [
    {
     "data": {
      "text/plain": [
       "'42.1234500'"
      ]
     },
     "execution_count": 135,
     "metadata": {},
     "output_type": "execute_result"
    }
   ],
   "source": [
    "'{0:.7f}'.format(42.12345)"
   ]
  },
  {
   "cell_type": "code",
   "execution_count": 136,
   "metadata": {},
   "outputs": [
    {
     "data": {
      "text/plain": [
       "'42.123'"
      ]
     },
     "execution_count": 136,
     "metadata": {},
     "output_type": "execute_result"
    }
   ],
   "source": [
    "'{answer:.3f}'.format(answer=42.12345)"
   ]
  },
  {
   "cell_type": "code",
   "execution_count": 137,
   "metadata": {},
   "outputs": [
    {
     "data": {
      "text/plain": [
       "'4.212e+01'"
      ]
     },
     "execution_count": 137,
     "metadata": {},
     "output_type": "execute_result"
    }
   ],
   "source": [
    " '{0:.3e}'.format(42.12345)"
   ]
  },
  {
   "cell_type": "code",
   "execution_count": 138,
   "metadata": {},
   "outputs": [
    {
     "data": {
      "text/plain": [
       "'4212%'"
      ]
     },
     "execution_count": 138,
     "metadata": {},
     "output_type": "execute_result"
    }
   ],
   "source": [
    "'{0:.0%}'.format(42.12345)"
   ]
  },
  {
   "cell_type": "code",
   "execution_count": 139,
   "metadata": {},
   "outputs": [
    {
     "data": {
      "text/plain": [
       "'a'"
      ]
     },
     "execution_count": 139,
     "metadata": {},
     "output_type": "execute_result"
    }
   ],
   "source": [
    "'{0:x}'.format(10)"
   ]
  },
  {
   "cell_type": "code",
   "execution_count": 140,
   "metadata": {},
   "outputs": [
    {
     "data": {
      "text/plain": [
       "'A'"
      ]
     },
     "execution_count": 140,
     "metadata": {},
     "output_type": "execute_result"
    }
   ],
   "source": [
    "'{0:X}'.format(10)"
   ]
  },
  {
   "cell_type": "code",
   "execution_count": 141,
   "metadata": {},
   "outputs": [
    {
     "data": {
      "text/plain": [
       "'1010'"
      ]
     },
     "execution_count": 141,
     "metadata": {},
     "output_type": "execute_result"
    }
   ],
   "source": [
    "'{0:b}'.format(10)"
   ]
  },
  {
   "cell_type": "code",
   "execution_count": 142,
   "metadata": {},
   "outputs": [
    {
     "data": {
      "text/plain": [
       "'12'"
      ]
     },
     "execution_count": 142,
     "metadata": {},
     "output_type": "execute_result"
    }
   ],
   "source": [
    "'{0:o}'.format(10)"
   ]
  },
  {
   "cell_type": "code",
   "execution_count": 146,
   "metadata": {},
   "outputs": [
    {
     "data": {
      "text/plain": [
       "'0b101010, 0o52, 0x2a'"
      ]
     },
     "execution_count": 146,
     "metadata": {},
     "output_type": "execute_result"
    }
   ],
   "source": [
    "'{0:#b}, {0:#o}, {0:#x}'.format(42)"
   ]
  },
  {
   "cell_type": "code",
   "execution_count": 147,
   "metadata": {},
   "outputs": [
    {
     "data": {
      "text/plain": [
       "'8 bit: 00101010; Three bytes: 00002a'"
      ]
     },
     "execution_count": 147,
     "metadata": {},
     "output_type": "execute_result"
    }
   ],
   "source": [
    "'8 bit: {0:08b}; Three bytes: {0:06x}'.format(42)"
   ]
  },
  {
   "cell_type": "code",
   "execution_count": 148,
   "metadata": {
    "collapsed": true
   },
   "outputs": [],
   "source": [
    "r, g, b = (1.0, 0.4, 0.0)"
   ]
  },
  {
   "cell_type": "code",
   "execution_count": 149,
   "metadata": {},
   "outputs": [
    {
     "data": {
      "text/plain": [
       "'#FF6600'"
      ]
     },
     "execution_count": 149,
     "metadata": {},
     "output_type": "execute_result"
    }
   ],
   "source": [
    " '#{:02X}{:02X}{:02X}'.format(int(255 * r), int(255 * g), int(255 * b)) "
   ]
  },
  {
   "cell_type": "code",
   "execution_count": 150,
   "metadata": {},
   "outputs": [
    {
     "data": {
      "text/plain": [
       "'******foo******'"
      ]
     },
     "execution_count": 150,
     "metadata": {},
     "output_type": "execute_result"
    }
   ],
   "source": [
    "'{:{}{}{}}'.format('foo', '*', '^', 15)"
   ]
  },
  {
   "cell_type": "code",
   "execution_count": 151,
   "metadata": {},
   "outputs": [
    {
     "data": {
      "text/plain": [
       "'.......foo'"
      ]
     },
     "execution_count": 151,
     "metadata": {},
     "output_type": "execute_result"
    }
   ],
   "source": [
    "'{:.>{}}'.format('foo', 10)"
   ]
  },
  {
   "cell_type": "code",
   "execution_count": 6,
   "metadata": {},
   "outputs": [
    {
     "data": {
      "text/plain": [
       "<object at 0x2ed9177b2d0>"
      ]
     },
     "execution_count": 6,
     "metadata": {},
     "output_type": "execute_result"
    }
   ],
   "source": [
    "object()"
   ]
  },
  {
   "cell_type": "code",
   "execution_count": 13,
   "metadata": {},
   "outputs": [
    {
     "name": "stdout",
     "output_type": "stream",
     "text": [
      "Created linked list is:\n",
      "1\n",
      "7\n",
      "8\n",
      "6\n",
      "4\n"
     ]
    }
   ],
   "source": [
    "# A complete working Python program to demonstrate all \n",
    "# insertion methods of linked list \n",
    "\n",
    "# Node class \n",
    "class Node: \n",
    "\n",
    "\t# Function to initialise the node object \n",
    "\tdef __init__(self, data): \n",
    "\t\tself.data = data # Assign data \n",
    "\t\tself.next = None # Initialize next as null \n",
    "\n",
    "\n",
    "# Linked List class contains a Node object \n",
    "class LinkedList: \n",
    "\n",
    "\t# Function to initialize head \n",
    "\tdef __init__(self): \n",
    "\t\tself.head = None\n",
    "\n",
    "\n",
    "\t# Functio to insert a new node at the beginning \n",
    "\tdef push(self, new_data): \n",
    "\n",
    "\t\t# 1 & 2: Allocate the Node & \n",
    "\t\t#\t Put in the data \n",
    "\t\tnew_node = Node(new_data) \n",
    "\n",
    "\t\t# 3. Make next of new Node as head \n",
    "\t\tnew_node.next = self.head \n",
    "\n",
    "\t\t# 4. Move the head to point to new Node \n",
    "\t\tself.head = new_node \n",
    "\n",
    "\n",
    "\t# This function is in LinkedList class. Inserts a \n",
    "\t# new node after the given prev_node. This method is \n",
    "\t# defined inside LinkedList class shown above */ \n",
    "\tdef insertAfter(self, prev_node, new_data): \n",
    "\n",
    "\t\t# 1. check if the given prev_node exists \n",
    "\t\tif prev_node is None: \n",
    "\t\t\tprint (\"The given previous node must inLinkedList.\")\n",
    "\t\t\treturn\n",
    "\n",
    "\t\t# 2. create new node & \n",
    "\t\t#\t Put in the data \n",
    "\t\tnew_node = Node(new_data) \n",
    "\n",
    "\t\t# 4. Make next of new Node as next of prev_node \n",
    "\t\tnew_node.next = prev_node.next\n",
    "\n",
    "\t\t# 5. make next of prev_node as new_node \n",
    "\t\tprev_node.next = new_node \n",
    "\n",
    "\n",
    "\t# This function is defined in Linked List class \n",
    "\t# Appends a new node at the end. This method is \n",
    "\t# defined inside LinkedList class shown above */ \n",
    "\tdef append(self, new_data): \n",
    "\n",
    "\t\t# 1. Create a new node \n",
    "\t\t# 2. Put in the data \n",
    "\t\t# 3. Set next as None \n",
    "\t\tnew_node = Node(new_data) \n",
    "\n",
    "\t\t# 4. If the Linked List is empty, then make the \n",
    "\t\t# new node as head \n",
    "\t\tif self.head is None: \n",
    "\t\t\tself.head = new_node \n",
    "\t\t\treturn\n",
    "\n",
    "\t\t# 5. Else traverse till the last node \n",
    "\t\tlast = self.head \n",
    "\t\twhile (last.next): \n",
    "\t\t\tlast = last.next\n",
    "\n",
    "\t\t# 6. Change the next of last node \n",
    "\t\tlast.next = new_node \n",
    "\n",
    "\n",
    "\t# Utility function to print the linked list \n",
    "\tdef printList(self): \n",
    "\t\ttemp = self.head \n",
    "\t\twhile (temp): \n",
    "\t\t\tprint (temp.data,) \n",
    "\t\t\ttemp = temp.next\n",
    "    \n",
    "\n",
    "\n",
    "\n",
    "# Code execution starts here \n",
    "if __name__=='__main__': \n",
    "\n",
    "\t# Start with the empty list \n",
    "\tllist = LinkedList() \n",
    "\n",
    "\t# Insert 6. So linked list becomes 6->None \n",
    "\tllist.append(6) \n",
    "\n",
    "\t# Insert 7 at the beginning. So linked list becomes 7->6->None \n",
    "\tllist.push(7); \n",
    "\n",
    "\t# Insert 1 at the beginning. So linked list becomes 1->7->6->None \n",
    "\tllist.push(1); \n",
    "\n",
    "\t# Insert 4 at the end. So linked list becomes 1->7->6->4->None \n",
    "\tllist.append(4) \n",
    "\n",
    "\t# Insert 8, after 7. So linked list becomes 1 -> 7-> 8-> 6-> 4-> None \n",
    "\tllist.insertAfter(llist.head.next, 8) \n",
    "\n",
    "\tprint ('Created linked list is:',) \n",
    "\tllist.printList() \n",
    "\n",
    "# This code is contributed by Manikantan Narasimhan \n",
    "\n"
   ]
  },
  {
   "cell_type": "code",
   "execution_count": 61,
   "metadata": {
    "collapsed": true
   },
   "outputs": [],
   "source": [
    "class Node:\n",
    "    def __init__(self,new_data):\n",
    "        self.data=new_data\n",
    "        self.next=None\n",
    "class LinkedList:\n",
    "    def __init__(self):\n",
    "        self.head=None\n",
    "    \n",
    "    def push(self,new_data):\n",
    "        new_node= Node(new_data)\n",
    "        new_node.next= self.head\n",
    "        self.head= new_node\n",
    "    \n",
    "    def middleElement(self):\n",
    "        \n",
    "        slow= self.head\n",
    "        fast= self.head\n",
    "        while(fast is not None and fast.next is not None ):\n",
    "            slow= slow.next\n",
    "            fast= fast.next.next\n",
    "        return slow.data\n",
    "    def printlist(self):\n",
    "        temp=self.head\n",
    "        while(temp):\n",
    "            print(temp.data)\n",
    "            temp=temp.next"
   ]
  },
  {
   "cell_type": "code",
   "execution_count": 62,
   "metadata": {
    "collapsed": true
   },
   "outputs": [],
   "source": []
  },
  {
   "cell_type": "code",
   "execution_count": 63,
   "metadata": {},
   "outputs": [],
   "source": [
    "llist = LinkedList()\n",
    "llist.push(10)\n",
    "llist.push(20)\n",
    "llist.push(30)\n",
    "llist.push(40)\n",
    "llist.push(50)"
   ]
  },
  {
   "cell_type": "code",
   "execution_count": 64,
   "metadata": {},
   "outputs": [
    {
     "name": "stdout",
     "output_type": "stream",
     "text": [
      "30\n"
     ]
    }
   ],
   "source": [
    "print(llist.middleElement())"
   ]
  },
  {
   "cell_type": "code",
   "execution_count": 65,
   "metadata": {},
   "outputs": [
    {
     "name": "stdout",
     "output_type": "stream",
     "text": [
      "50\n",
      "40\n",
      "30\n",
      "20\n",
      "10\n"
     ]
    }
   ],
   "source": [
    "llist.printlist()"
   ]
  },
  {
   "cell_type": "code",
   "execution_count": null,
   "metadata": {},
   "outputs": [],
   "source": []
  },
  {
   "cell_type": "code",
   "execution_count": null,
   "metadata": {
    "collapsed": true
   },
   "outputs": [],
   "source": []
  }
 ],
 "metadata": {
  "kernelspec": {
   "display_name": "Python 3",
   "language": "python",
   "name": "python3"
  },
  "language_info": {
   "codemirror_mode": {
    "name": "ipython",
    "version": 3
   },
   "file_extension": ".py",
   "mimetype": "text/x-python",
   "name": "python",
   "nbconvert_exporter": "python",
   "pygments_lexer": "ipython3",
   "version": "3.6.3"
  }
 },
 "nbformat": 4,
 "nbformat_minor": 2
}
